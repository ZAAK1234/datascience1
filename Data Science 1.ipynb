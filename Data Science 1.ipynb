{
 "cells": [
  {
   "cell_type": "code",
   "execution_count": 3,
   "id": "09f2a164",
   "metadata": {},
   "outputs": [],
   "source": [
    "data = \" Welcome to the data science world\""
   ]
  },
  {
   "cell_type": "code",
   "execution_count": 5,
   "id": "2a6e61b3",
   "metadata": {},
   "outputs": [
    {
     "name": "stdout",
     "output_type": "stream",
     "text": [
      "my nme is fahim jargal\n"
     ]
    }
   ],
   "source": [
    "a = \"my nme is fahim jargal\"\n",
    "print(a)"
   ]
  },
  {
   "cell_type": "code",
   "execution_count": 6,
   "id": "f1c0de0a",
   "metadata": {},
   "outputs": [
    {
     "name": "stdout",
     "output_type": "stream",
     "text": [
      "15\n"
     ]
    }
   ],
   "source": [
    "print(10+5)"
   ]
  },
  {
   "cell_type": "code",
   "execution_count": 7,
   "id": "60c9d30a",
   "metadata": {},
   "outputs": [
    {
     "name": "stdout",
     "output_type": "stream",
     "text": [
      "2\n"
     ]
    }
   ],
   "source": [
    "print(26-24)"
   ]
  },
  {
   "cell_type": "code",
   "execution_count": null,
   "id": "7a277fbf",
   "metadata": {},
   "outputs": [],
   "source": []
  }
 ],
 "metadata": {
  "kernelspec": {
   "display_name": "Python 3 (ipykernel)",
   "language": "python",
   "name": "python3"
  },
  "language_info": {
   "codemirror_mode": {
    "name": "ipython",
    "version": 3
   },
   "file_extension": ".py",
   "mimetype": "text/x-python",
   "name": "python",
   "nbconvert_exporter": "python",
   "pygments_lexer": "ipython3",
   "version": "3.9.7"
  }
 },
 "nbformat": 4,
 "nbformat_minor": 5
}
